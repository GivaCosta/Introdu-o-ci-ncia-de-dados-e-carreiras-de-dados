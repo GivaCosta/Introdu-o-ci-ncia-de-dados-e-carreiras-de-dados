{
 "cells": [
  {
   "cell_type": "code",
   "execution_count": 3,
   "id": "8b90516d-a169-4d17-9db9-5834ddc25d65",
   "metadata": {},
   "outputs": [
    {
     "name": "stdout",
     "output_type": "stream",
     "text": [
      "3.12.0 (tags/v3.12.0:0fb18b0, Oct  2 2023, 13:03:39) [MSC v.1935 64 bit (AMD64)]\n"
     ]
    }
   ],
   "source": [
    "# Isto é um comentário\n",
    "import sys  # Este é um comentário inline\n",
    "print(sys.version)\n"
   ]
  },
  {
   "cell_type": "code",
   "execution_count": 4,
   "id": "453f9d69-1c0b-444b-8aa6-76f111708539",
   "metadata": {},
   "outputs": [
    {
     "name": "stdout",
     "output_type": "stream",
     "text": [
      "Olá, Mundo!\n"
     ]
    },
    {
     "data": {
      "text/plain": [
       "'\\nEste é outro comentário em várias linhas.\\nVocê pode adicionar quantas linhas quiser aqui.\\n'"
      ]
     },
     "execution_count": 4,
     "metadata": {},
     "output_type": "execute_result"
    }
   ],
   "source": [
    "'''\n",
    "Este é um comentário em várias linhas no Jupyter Notebook.\n",
    "Pode ser útil para explicar seções mais extensas de código.\n",
    "'''\n",
    "\n",
    "print(\"Olá, Mundo!\")\n",
    "\n",
    "\"\"\"\n",
    "Este é outro comentário em várias linhas.\n",
    "Você pode adicionar quantas linhas quiser aqui.\n",
    "\"\"\"\n"
   ]
  },
  {
   "cell_type": "code",
   "execution_count": null,
   "id": "fd0f6b27-a7c9-4c03-9b69-96a7cbfc9ee5",
   "metadata": {},
   "outputs": [],
   "source": []
  }
 ],
 "metadata": {
  "kernelspec": {
   "display_name": "Python 3 (ipykernel)",
   "language": "python",
   "name": "python3"
  },
  "language_info": {
   "codemirror_mode": {
    "name": "ipython",
    "version": 3
   },
   "file_extension": ".py",
   "mimetype": "text/x-python",
   "name": "python",
   "nbconvert_exporter": "python",
   "pygments_lexer": "ipython3",
   "version": "3.12.0"
  }
 },
 "nbformat": 4,
 "nbformat_minor": 5
}
