{
 "cells": [
  {
   "cell_type": "markdown",
   "metadata": {},
   "source": [
    "# Aula 4 - strings\n",
    "\n",
    "Na aula de hoje, vamos explorar os seguintes tópicos em Python:\n",
    "\n",
    "- 1) Strings\n",
    "- 2) Funções de Strings\n",
    "    - 2.1) Formatação de strings\n",
    "_______\n"
   ]
  },
  {
   "cell_type": "markdown",
   "metadata": {},
   "source": [
    "____\n",
    "____\n",
    "____"
   ]
  },
  {
   "cell_type": "markdown",
   "metadata": {},
   "source": [
    "## 1) Strings\n",
    "\n",
    "Desde a primeira aula, temos trabalhado com strings, que, como vimos, representam **dados textuais**\n",
    "\n",
    "Vamos, agora, olhar pra strings um pouco mais a fundo, e aprender algumas funções para trabalharmos com strings"
   ]
  },
  {
   "cell_type": "markdown",
   "metadata": {},
   "source": [
    "Uma string nada mais é do que uma **coleção de caracteres**!\n",
    "\n",
    "Assim, podemos acessar caracteres específicos ou então um intervalo de caracteres de uma string, como se fosse uma lista!\n",
    "\n",
    "**OBS.: Para strings também, o índice começa em 0, e podemos usar índices negativos!**"
   ]
  },
  {
   "cell_type": "code",
   "execution_count": 1,
   "metadata": {},
   "outputs": [
    {
     "name": "stdout",
     "output_type": "stream",
     "text": [
      "Gilvanildo\n"
     ]
    }
   ],
   "source": [
    "print('Gilvanildo')"
   ]
  },
  {
   "cell_type": "code",
   "execution_count": 5,
   "metadata": {},
   "outputs": [
    {
     "name": "stdout",
     "output_type": "stream",
     "text": [
      "['G', 'i', 'l', 'v', 'a', 'n', 'i', 'l', 'd', 'o']\n"
     ]
    }
   ],
   "source": [
    "# Criando uma Lista a partir da String 'Gilvanildo'\n",
    "nome = \"Gilvanildo\"\n",
    "first_list = list(nome)\n",
    "\n",
    "# Imprimindo a lista\n",
    "print(first_list)\n"
   ]
  },
  {
   "cell_type": "markdown",
   "metadata": {},
   "source": [
    "Para saber o comprimento de uma string (quantos caracteres ela tem, incluindo espaços e pontuações), use a função len():"
   ]
  },
  {
   "cell_type": "code",
   "execution_count": 6,
   "metadata": {},
   "outputs": [
    {
     "name": "stdout",
     "output_type": "stream",
     "text": [
      "O comprimento da string é: 10\n"
     ]
    }
   ],
   "source": [
    "# Exemplo de uso da função len() para obter o comprimento de uma string\n",
    "nome = \"Gilvanildo\"\n",
    "\n",
    "# Obtendo o comprimento da string\n",
    "comprimento = len(nome)\n",
    "\n",
    "# Imprimindo o resultado\n",
    "print(\"O comprimento da string é:\", comprimento)\n"
   ]
  },
  {
   "cell_type": "markdown",
   "metadata": {},
   "source": [
    "Podemos também percorrer cada caractere da string com o `for` -- strings são objetos **iteráveis**:"
   ]
  },
  {
   "cell_type": "code",
   "execution_count": 7,
   "metadata": {},
   "outputs": [
    {
     "name": "stdout",
     "output_type": "stream",
     "text": [
      "G\n",
      "i\n",
      "l\n",
      "v\n",
      "a\n",
      "n\n",
      "i\n",
      "l\n",
      "d\n",
      "o\n"
     ]
    }
   ],
   "source": [
    "# Iterando sobre cada caractere da string\n",
    "nome = \"Gilvanildo\"\n",
    "\n",
    "for caractere in nome:\n",
    "    print(caractere)\n"
   ]
  },
  {
   "cell_type": "markdown",
   "metadata": {},
   "source": [
    "Dá pra fazer o mesmo com o range() e o len():"
   ]
  },
  {
   "cell_type": "code",
   "execution_count": 9,
   "metadata": {},
   "outputs": [
    {
     "name": "stdout",
     "output_type": "stream",
     "text": [
      "G\n",
      "i\n",
      "l\n",
      "v\n",
      "a\n",
      "n\n",
      "i\n",
      "l\n",
      "d\n",
      "o\n"
     ]
    }
   ],
   "source": [
    "# Iterando sobre os índices da string usando range() e len()\n",
    "nome = \"Gilvanildo\"\n",
    "\n",
    "for indice in range(len(nome)):\n",
    "    caractere = nome[indice]\n",
    "    print(caractere)\n"
   ]
  },
  {
   "cell_type": "code",
   "execution_count": 8,
   "metadata": {},
   "outputs": [
    {
     "name": "stdout",
     "output_type": "stream",
     "text": [
      "Índice: 0, Caractere: G\n",
      "Índice: 1, Caractere: i\n",
      "Índice: 2, Caractere: l\n",
      "Índice: 3, Caractere: v\n",
      "Índice: 4, Caractere: a\n",
      "Índice: 5, Caractere: n\n",
      "Índice: 6, Caractere: i\n",
      "Índice: 7, Caractere: l\n",
      "Índice: 8, Caractere: d\n",
      "Índice: 9, Caractere: o\n"
     ]
    }
   ],
   "source": [
    "# Exibindo tanto o índice quanto o caractere correspondente.\n",
    "nome = \"Gilvanildo\"\n",
    "\n",
    "for indice in range(len(nome)):\n",
    "    caractere = nome[indice]\n",
    "    print(f\"Índice: {indice}, Caractere: {caractere}\")\n"
   ]
  },
  {
   "cell_type": "markdown",
   "metadata": {},
   "source": [
    "Apesar de se parecer com uma lista, a string não tem exatamente as propriedades de uma lista. Por exemplo, **não podemos alterar** caracteres individualmente:"
   ]
  },
  {
   "cell_type": "markdown",
   "metadata": {},
   "source": [
    "#### Tentativa de modificar um caractere em uma ***string*** (isso resultará em um erro)\n",
    "nome = \"Gilvanildo\"\n",
    "\n",
    "#### Isso causará um erro, pois as strings são imutáveis\n",
    "#### nome[0] = 'X'  # Remova o comentário desta linha para ver o erro\n",
    "\n",
    "#### Imprimindo a string original para demonstrar que ela não foi modificada\n",
    "print(nome)\n"
   ]
  },
  {
   "cell_type": "markdown",
   "metadata": {},
   "source": [
    "Mas nós conseguimos **alterar caracteres (ou palavras)** com o método \"replace()\":"
   ]
  },
  {
   "cell_type": "code",
   "execution_count": 10,
   "metadata": {},
   "outputs": [
    {
     "name": "stdout",
     "output_type": "stream",
     "text": [
      "String original: Gilvanildo\n",
      "Nova string: GXlvanXldo\n"
     ]
    }
   ],
   "source": [
    "# Usando o método replace() para substituir um caractere em uma string\n",
    "nome = \"Gilvanildo\"\n",
    "\n",
    "# Substituir 'i' por 'X'\n",
    "novo_nome = nome.replace('i', 'X')\n",
    "\n",
    "# Imprimir a string original e a nova string\n",
    "print(\"String original:\", nome)\n",
    "print(\"Nova string:\", novo_nome)\n"
   ]
  },
  {
   "cell_type": "markdown",
   "metadata": {},
   "source": [
    "Podemos **transformar uma string em uma lista de caracteres**, explicitamente, usando a fução \"list()\""
   ]
  },
  {
   "cell_type": "code",
   "execution_count": 11,
   "metadata": {},
   "outputs": [
    {
     "name": "stdout",
     "output_type": "stream",
     "text": [
      "['G', 'i', 'l', 'v', 'a', 'n', 'i', 'l', 'd', 'o']\n"
     ]
    }
   ],
   "source": [
    "# Convertendo uma string em uma lista de caracteres usando a função list()\n",
    "nome = \"Gilvanildo\"\n",
    "lista_de_caracteres = list(nome)\n",
    "\n",
    "# Imprimindo a lista de caracteres\n",
    "print(lista_de_caracteres)\n"
   ]
  },
  {
   "cell_type": "markdown",
   "metadata": {},
   "source": [
    "Agora sim, podemos alterar um elemento da lista:"
   ]
  },
  {
   "cell_type": "code",
   "execution_count": 12,
   "metadata": {},
   "outputs": [
    {
     "name": "stdout",
     "output_type": "stream",
     "text": [
      "['G', 'X', 'l', 'v', 'a', 'n', 'i', 'l', 'd', 'o']\n"
     ]
    }
   ],
   "source": [
    "# Convertendo uma string em uma lista de caracteres usando a função list()\n",
    "nome = \"Gilvanildo\"\n",
    "lista_de_caracteres = list(nome)\n",
    "\n",
    "# Alterando o segundo caractere da lista\n",
    "lista_de_caracteres[1] = 'X'\n",
    "\n",
    "# Imprimindo a lista de caracteres modificada\n",
    "print(lista_de_caracteres)\n"
   ]
  },
  {
   "cell_type": "markdown",
   "metadata": {},
   "source": [
    "E, pra trasnformar a lista de volta pra string, usamos a função \"join()\":"
   ]
  },
  {
   "cell_type": "code",
   "execution_count": 13,
   "metadata": {},
   "outputs": [
    {
     "name": "stdout",
     "output_type": "stream",
     "text": [
      "GXlvanildo\n"
     ]
    }
   ],
   "source": [
    "# Convertendo a lista de caracteres de volta para uma string usando o método join()\n",
    "lista_de_caracteres = ['G', 'X', 'l', 'v', 'a', 'n', 'i', 'l', 'd', 'o']\n",
    "\n",
    "# Usando o método join() para criar uma string\n",
    "nova_string = ''.join(lista_de_caracteres)\n",
    "\n",
    "# Imprimindo a nova string\n",
    "print(nova_string)\n"
   ]
  },
  {
   "cell_type": "markdown",
   "metadata": {},
   "source": [
    "Um exemplo do uso do .join() pra juntar os números de uma lista em um único numero"
   ]
  },
  {
   "cell_type": "code",
   "execution_count": 14,
   "metadata": {},
   "outputs": [
    {
     "name": "stdout",
     "output_type": "stream",
     "text": [
      "Lista de números: [1, 2, 3, 4, 5]\n",
      "Número como string: 12345\n",
      "Número final: 12345\n"
     ]
    }
   ],
   "source": [
    "# Lista de números\n",
    "numeros = [1, 2, 3, 4, 5]\n",
    "\n",
    "# Convertendo os números para strings\n",
    "numeros_como_strings = [str(numero) for numero in numeros]\n",
    "\n",
    "# Usando o método join() para juntar os números em uma string\n",
    "numero_completo = ''.join(numeros_como_strings)\n",
    "\n",
    "# Convertendo a string resultante de volta para um número (opcional)\n",
    "numero_final = int(numero_completo)\n",
    "\n",
    "# Imprimindo o resultado\n",
    "print(\"Lista de números:\", numeros)\n",
    "print(\"Número como string:\", numero_completo)\n",
    "print(\"Número final:\", numero_final)\n"
   ]
  },
  {
   "cell_type": "code",
   "execution_count": 16,
   "metadata": {},
   "outputs": [
    {
     "name": "stdout",
     "output_type": "stream",
     "text": [
      "String original: Gilvanildo\n",
      "Resultado usando join(): G i l v a n i l d o\n"
     ]
    }
   ],
   "source": [
    "# Exemplo do uso do método join() para juntar os caracteres de uma string separados por espaço\n",
    "nome = \"Gilvanildo\"\n",
    "\n",
    "# Usando o método join() para juntar os caracteres da string separados por espaço\n",
    "resultado = \" \".join(nome)\n",
    "\n",
    "# Imprimindo o resultado\n",
    "print(\"String original:\", nome)\n",
    "print(\"Resultado usando join():\", resultado)\n"
   ]
  },
  {
   "cell_type": "code",
   "execution_count": 26,
   "metadata": {},
   "outputs": [
    {
     "data": {
      "text/plain": [
       "'G  i  l  v  a  n  i  l  d  o'"
      ]
     },
     "execution_count": 26,
     "metadata": {},
     "output_type": "execute_result"
    }
   ],
   "source": [
    "\"  \".join(nome)"
   ]
  },
  {
   "cell_type": "code",
   "execution_count": 17,
   "metadata": {},
   "outputs": [
    {
     "name": "stdout",
     "output_type": "stream",
     "text": [
      "Exemplo 1: Olá Mundo Python\n",
      "Exemplo 2: 12345\n"
     ]
    }
   ],
   "source": [
    "# Exemplo 1: Juntando os elementos de uma lista de strings\n",
    "lista_de_palavras = [\"Olá\", \"Mundo\", \"Python\"]\n",
    "frase = \" \".join(lista_de_palavras)\n",
    "print(\"Exemplo 1:\", frase)\n",
    "\n",
    "# Exemplo 2: Juntando os elementos de uma lista de números como strings\n",
    "numeros = [1, 2, 3, 4, 5]\n",
    "numero_completo = ''.join(map(str, numeros))\n",
    "print(\"Exemplo 2:\", numero_completo)\n"
   ]
  },
  {
   "cell_type": "markdown",
   "metadata": {},
   "source": [
    "Como já vimos, podemos fazer **operações com strings**:"
   ]
  },
  {
   "cell_type": "markdown",
   "metadata": {},
   "source": [
    "Soma de strings: ao somar duas strings, elas são concatenadas:"
   ]
  },
  {
   "cell_type": "code",
   "execution_count": 18,
   "metadata": {},
   "outputs": [
    {
     "name": "stdout",
     "output_type": "stream",
     "text": [
      "Exemplo 1: Olá, Mundo!\n"
     ]
    }
   ],
   "source": [
    "# Exemplo 1: Concatenação de duas strings\n",
    "string1 = \"Olá, \"\n",
    "string2 = \"Mundo!\"\n",
    "\n",
    "# A soma de duas strings resulta em uma concatenação\n",
    "resultado = string1 + string2\n",
    "\n",
    "# Imprimindo o resultado\n",
    "print(\"Exemplo 1:\", resultado)\n"
   ]
  },
  {
   "cell_type": "code",
   "execution_count": 27,
   "metadata": {},
   "outputs": [
    {
     "name": "stdout",
     "output_type": "stream",
     "text": [
      "Exemplo 2: Nome: Alice, Idade: 25\n"
     ]
    }
   ],
   "source": [
    "# Exemplo 2: Concatenação de strings com números (convertendo números para strings)\n",
    "nome = \"Alice\"\n",
    "idade = 25\n",
    "\n",
    "# Convertendo a idade para string e concatenando com a string do nome\n",
    "mensagem = \"Nome: \" + nome + \", Idade: \" + str(idade)\n",
    "\n",
    "# Imprimindo a mensagem resultante\n",
    "print(\"Exemplo 2:\", mensagem)\n"
   ]
  },
  {
   "cell_type": "markdown",
   "metadata": {},
   "source": [
    "Multiplicação de string por inteiro: ao multiplicar uma string por um número inteiro, a string é repetida:"
   ]
  },
  {
   "cell_type": "code",
   "execution_count": 20,
   "metadata": {},
   "outputs": [
    {
     "name": "stdout",
     "output_type": "stream",
     "text": [
      "Exemplo 1: abcabcabc\n"
     ]
    }
   ],
   "source": [
    "# Exemplo 1: Repetição de uma string\n",
    "string_original = \"abc\"\n",
    "\n",
    "# Multiplicando a string por 3 para repeti-la três vezes\n",
    "resultado = string_original * 3\n",
    "\n",
    "# Imprimindo o resultado\n",
    "print(\"Exemplo 1:\", resultado)\n"
   ]
  },
  {
   "cell_type": "code",
   "execution_count": 22,
   "metadata": {},
   "outputs": [
    {
     "name": "stdout",
     "output_type": "stream",
     "text": [
      "Exemplo 2: ......................................................................................................................................................\n"
     ]
    }
   ],
   "source": [
    "# Exemplo 2: Construção de uma linha pontilhada\n",
    "numero_pontos = 150\n",
    "\n",
    "# Multiplicando o caractere '.' por 10 para criar uma linha pontilhada\n",
    "linha_pontilhada = '.' * numero_pontos\n",
    "\n",
    "# Imprimindo a linha pontilhada\n",
    "print(\"Exemplo 2:\", linha_pontilhada)\n"
   ]
  },
  {
   "cell_type": "markdown",
   "metadata": {},
   "source": [
    "__________\n",
    "__________\n",
    "__________"
   ]
  },
  {
   "cell_type": "markdown",
   "metadata": {},
   "source": [
    "## 2) Funções de strings\n",
    "\n",
    "Como listas, strings também têm algumas funções específicas. Algumas delas são:"
   ]
  },
  {
   "cell_type": "markdown",
   "metadata": {},
   "source": [
    ".upper(): transforma todos os caracteres em maiúscula"
   ]
  },
  {
   "cell_type": "code",
   "execution_count": 36,
   "metadata": {},
   "outputs": [
    {
     "name": "stdout",
     "output_type": "stream",
     "text": [
      "Texto original: Olá, Mundo!\n",
      "Texto em maiúscula: OLÁ, MUNDO!\n"
     ]
    }
   ],
   "source": [
    "# Exemplo do uso do método .upper() para transformar uma string em maiúscula\n",
    "texto_original = \"Olá, Mundo!\"\n",
    "\n",
    "# Aplicando o método .upper() para transformar todos os caracteres em maiúscula\n",
    "texto_em_maiuscula = texto_original.upper()\n",
    "\n",
    "# Imprimindo os resultados\n",
    "print(\"Texto original:\", texto_original)\n",
    "print(\"Texto em maiúscula:\", texto_em_maiuscula)\n"
   ]
  },
  {
   "cell_type": "markdown",
   "metadata": {},
   "source": [
    ".lower(): trasnforma todos os caracteres em minúscula"
   ]
  },
  {
   "cell_type": "code",
   "execution_count": null,
   "metadata": {},
   "outputs": [],
   "source": []
  },
  {
   "cell_type": "markdown",
   "metadata": {},
   "source": [
    ".title(): deixa a primeira letra de cada palavra em maiúscula"
   ]
  },
  {
   "cell_type": "code",
   "execution_count": null,
   "metadata": {},
   "outputs": [],
   "source": []
  },
  {
   "cell_type": "markdown",
   "metadata": {},
   "source": [
    ".capitalize(): deixa a primeira letra da primeira palavra em maiúscula"
   ]
  },
  {
   "cell_type": "code",
   "execution_count": null,
   "metadata": {},
   "outputs": [],
   "source": []
  },
  {
   "cell_type": "markdown",
   "metadata": {},
   "source": [
    "É possível quebrar uma string em determinado caractere, tendo como resultado uma **lista com os caracteres além da quebra**.\n",
    "\n",
    "- Para quebrar nos espaços, use a função \".split()\", sem argumento"
   ]
  },
  {
   "cell_type": "code",
   "execution_count": null,
   "metadata": {},
   "outputs": [],
   "source": []
  },
  {
   "cell_type": "markdown",
   "metadata": {},
   "source": [
    "- Para quebrar em algum caracter, use o caractere como argumento:"
   ]
  },
  {
   "cell_type": "code",
   "execution_count": null,
   "metadata": {},
   "outputs": [],
   "source": []
  },
  {
   "cell_type": "markdown",
   "metadata": {},
   "source": [
    "__Tirar espaços que tão sobrando no fim e no início da string__\n",
    "\n",
    "Utilize a função strip()"
   ]
  },
  {
   "cell_type": "code",
   "execution_count": null,
   "metadata": {},
   "outputs": [],
   "source": []
  },
  {
   "cell_type": "markdown",
   "metadata": {},
   "source": [
    "Mas essa função não elimina espaços extrar no \"meio\" da string -- apenas no início e no fim!"
   ]
  },
  {
   "cell_type": "code",
   "execution_count": null,
   "metadata": {},
   "outputs": [],
   "source": []
  },
  {
   "cell_type": "markdown",
   "metadata": {},
   "source": [
    "__Pra tirar espaços do meio, podemos fazer:__"
   ]
  },
  {
   "cell_type": "code",
   "execution_count": null,
   "metadata": {},
   "outputs": [],
   "source": []
  },
  {
   "cell_type": "markdown",
   "metadata": {},
   "source": [
    "Ou:"
   ]
  },
  {
   "cell_type": "code",
   "execution_count": null,
   "metadata": {},
   "outputs": [],
   "source": []
  },
  {
   "cell_type": "markdown",
   "metadata": {},
   "source": [
    "Outras funções interessantes...\n",
    "\n",
    "- isdigit()\n",
    "- isalpha()\n",
    "- isalnum()\n",
    "- isspace()"
   ]
  },
  {
   "cell_type": "code",
   "execution_count": null,
   "metadata": {},
   "outputs": [],
   "source": []
  },
  {
   "cell_type": "markdown",
   "metadata": {},
   "source": [
    "Podemos usar as funções acima para padronizar a resposta de um usuário!\n",
    "\n",
    "Utilizamos a função \n",
    "\n",
    "```unicodedata.normalize(\"NFD\", minha_string).encode(\"ascii\", \"ignore\").decode(\"utf-8\")```\n",
    "\n",
    "Para tirar acentos da string \"minha_string\"\n",
    "\n",
    "E o ```strip()``` é usado pra tirar espaços desnecessários do início e do fim de uma string"
   ]
  },
  {
   "cell_type": "code",
   "execution_count": null,
   "metadata": {},
   "outputs": [],
   "source": []
  },
  {
   "cell_type": "markdown",
   "metadata": {},
   "source": [
    "Como pudemos ver acima, processar a string para que ela esteja em **determinado padrão** (por exemplo: em letras maiúsculas e sem acentos) é um passo muito importante para que operações de comparação entre strings funcionem perfeitamente sem erros!"
   ]
  },
  {
   "cell_type": "code",
   "execution_count": null,
   "metadata": {},
   "outputs": [],
   "source": []
  },
  {
   "cell_type": "markdown",
   "metadata": {},
   "source": [
    "___\n",
    "___"
   ]
  },
  {
   "cell_type": "markdown",
   "metadata": {},
   "source": [
    "### 2.1) Formatação de strings\n",
    "\n",
    "Também podemos **formatar strings**. Isso pode ser super útil tanto ao receber dados do usuário (input) quando ao exbibir dados pro usuário (print)"
   ]
  },
  {
   "cell_type": "markdown",
   "metadata": {},
   "source": [
    "Um dos usos mais legal do format é para **exibir** strings formatadas.\n",
    "\n",
    "Imagine que você queira exibir uma data no formato dd/mm/aaaa.\n",
    "\n",
    "Em situações normais, dias e meses inferiores a 10 apareceriam com apenas 1 dígito (int não é representado com zeros à esquerda). Porém, podemos especificar no format que gostaríamos de representar um inteiro com 2 dígitos, preenchendo com zero dígitos em branco (à esquerda): \n",
    "\n",
    "```python\n",
    "\n",
    "dia = 1\n",
    "mes = 2\n",
    "ano = 2020\n",
    "data = '{:02d}/{:02d}/{:04d}'.format(dia, mes, ano)\n",
    "print(data) # resultado: 01/02/2020\n",
    "```\n",
    "\n",
    "O símbolo 'd' indica que estamos representando números **inteiros** em base decimal (dígitos de 0 a 9). \n",
    "\n",
    "Os símbolos '2' e '4' indicam, respectivamente, 2 dígitos ou 4 dígitos. \n",
    "\n",
    "o símbolo '0' indica que se faltar dígitos, os espaços devem ser preenchidos com zero"
   ]
  },
  {
   "cell_type": "code",
   "execution_count": null,
   "metadata": {},
   "outputs": [],
   "source": []
  },
  {
   "cell_type": "markdown",
   "metadata": {},
   "source": [
    "Imagina que você queira exibir algum valor monetário, por exemplo, o preço de alguma coisa.\n",
    "\n",
    "Utilizando float, pode ser que seu resultado tenha apenas uma casa decimal.\n",
    "\n",
    "Mas, se tratando de dinheito, sempre queremos mostrar duas casas decimais!\n",
    "\n",
    "Usaremos o format para representar com apenas 2 casas.\n",
    "\n",
    "```python\n",
    "preco = 1500.5\n",
    "\n",
    "print(preco) \n",
    "\n",
    "precoFinal = 'R$ {:.2f}'.format(preco)\n",
    "\n",
    "print(precoFinal)\n",
    "```\n",
    "\n",
    "Neste caso, o 'f' indica que o número é float. \n",
    "\n",
    "Já o '.2' indica que queremos 2 casas após o ponto decimal. \n",
    "\n",
    "Note que a função não apenas descarta as casas excedentes, e sim arredonda corretamente o número."
   ]
  },
  {
   "cell_type": "code",
   "execution_count": null,
   "metadata": {},
   "outputs": [],
   "source": []
  },
  {
   "cell_type": "markdown",
   "metadata": {},
   "source": [
    "Uma outra forma interessante de formatar strings é com a utilização das chamadas [f strings](https://docs.python.org/pt-br/3/tutorial/inputoutput.html#tut-f-strings).\n",
    "\n",
    "Esa formatação permite que coloquemos facilmente variáveis em strings, de maneira fluida! Essa construção é super útil sobretudo na construção de exibições mais complexas.\n",
    "\n",
    "Veja, abaixo, alguns exemplos!"
   ]
  },
  {
   "cell_type": "code",
   "execution_count": null,
   "metadata": {},
   "outputs": [],
   "source": []
  }
 ],
 "metadata": {
  "kernelspec": {
   "display_name": "Python 3 (ipykernel)",
   "language": "python",
   "name": "python3"
  },
  "language_info": {
   "codemirror_mode": {
    "name": "ipython",
    "version": 3
   },
   "file_extension": ".py",
   "mimetype": "text/x-python",
   "name": "python",
   "nbconvert_exporter": "python",
   "pygments_lexer": "ipython3",
   "version": "3.12.0"
  },
  "varInspector": {
   "cols": {
    "lenName": 16,
    "lenType": 16,
    "lenVar": 40
   },
   "kernels_config": {
    "python": {
     "delete_cmd_postfix": "",
     "delete_cmd_prefix": "del ",
     "library": "var_list.py",
     "varRefreshCmd": "print(var_dic_list())"
    },
    "r": {
     "delete_cmd_postfix": ") ",
     "delete_cmd_prefix": "rm(",
     "library": "var_list.r",
     "varRefreshCmd": "cat(var_dic_list()) "
    }
   },
   "types_to_exclude": [
    "module",
    "function",
    "builtin_function_or_method",
    "instance",
    "_Feature"
   ],
   "window_display": false
  }
 },
 "nbformat": 4,
 "nbformat_minor": 4
}
